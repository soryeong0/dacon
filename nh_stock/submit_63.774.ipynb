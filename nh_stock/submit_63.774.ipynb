{
 "cells": [
  {
   "cell_type": "markdown",
   "metadata": {},
   "source": [
    "# 라이브러리 불러오기"
   ]
  },
  {
   "cell_type": "code",
   "execution_count": 102,
   "metadata": {
    "executionInfo": {
     "elapsed": 4,
     "status": "ok",
     "timestamp": 1633945761354,
     "user": {
      "displayName": "소령",
      "photoUrl": "https://lh3.googleusercontent.com/a/default-user=s64",
      "userId": "16197694196490598668"
     },
     "user_tz": -540
    },
    "id": "SWCutOG84nGf"
   },
   "outputs": [],
   "source": [
    "import pandas as pd\n",
    "pd.set_option(\"display.max_column\", None)\n",
    "import numpy as np\n",
    "\n",
    "import matplotlib.pyplot as plt\n",
    "plt.rcParams['font.family'] = 'Malgun Gothic'\n",
    "import seaborn as sns\n",
    "\n",
    "from sklearn.model_selection import train_test_split, KFold, GridSearchCV\n",
    "from sklearn.preprocessing import LabelEncoder\n",
    "from sklearn.preprocessing import RobustScaler\n",
    "from sklearn.decomposition import PCA\n",
    "from sklearn.metrics import mean_squared_error\n",
    "\n",
    "from catboost import CatBoostRegressor\n",
    "\n",
    "import warnings\n",
    "warnings.filterwarnings(action='ignore')\n",
    "sns.set()"
   ]
  },
  {
   "cell_type": "markdown",
   "metadata": {},
   "source": [
    "# 데이터 불러오기"
   ]
  },
  {
   "cell_type": "code",
   "execution_count": 103,
   "metadata": {
    "executionInfo": {
     "elapsed": 9491,
     "status": "ok",
     "timestamp": 1633945770842,
     "user": {
      "displayName": "소령",
      "photoUrl": "https://lh3.googleusercontent.com/a/default-user=s64",
      "userId": "16197694196490598668"
     },
     "user_tz": -540
    },
    "id": "TqtNw4uX3T4U"
   },
   "outputs": [],
   "source": [
    "cus = pd.read_csv(\"open/cus_info.csv\")\n",
    "iem = pd.read_csv(\"open/iem_info_20210902.csv\")\n",
    "hist = pd.read_csv(\"open/stk_bnc_hist.csv\")\n",
    "\n",
    "train = pd.read_csv(\"open/stk_hld_train.csv\")\n",
    "test = pd.read_csv(\"open/stk_hld_test.csv\")\n",
    "sub = pd.read_csv(\"open/sample_submission.csv\")"
   ]
  },
  {
   "cell_type": "markdown",
   "metadata": {
    "id": "ka3QITJw5jai"
   },
   "source": [
    "# EDA"
   ]
  },
  {
   "cell_type": "code",
   "execution_count": 104,
   "metadata": {
    "colab": {
     "base_uri": "https://localhost:8080/"
    },
    "executionInfo": {
     "elapsed": 15,
     "status": "ok",
     "timestamp": 1633945770843,
     "user": {
      "displayName": "소령",
      "photoUrl": "https://lh3.googleusercontent.com/a/default-user=s64",
      "userId": "16197694196490598668"
     },
     "user_tz": -540
    },
    "id": "iBOlYd8LzWgc",
    "outputId": "30f4e3c5-87ca-47ea-c35c-fccb7aa0dd5c"
   },
   "outputs": [
    {
     "data": {
      "text/plain": [
       "((10000, 10), (3079, 5), (2573839, 6))"
      ]
     },
     "execution_count": 104,
     "metadata": {},
     "output_type": "execute_result"
    }
   ],
   "source": [
    "cus.shape, iem.shape, hist.shape"
   ]
  },
  {
   "cell_type": "code",
   "execution_count": 105,
   "metadata": {},
   "outputs": [
    {
     "data": {
      "text/plain": [
       "((681472, 4), (70596, 6), (70596, 2))"
      ]
     },
     "execution_count": 105,
     "metadata": {},
     "output_type": "execute_result"
    }
   ],
   "source": [
    "train.shape, test.shape, sub.shape"
   ]
  },
  {
   "cell_type": "code",
   "execution_count": 106,
   "metadata": {},
   "outputs": [
    {
     "name": "stdout",
     "output_type": "stream",
     "text": [
      "<class 'pandas.core.frame.DataFrame'>\n",
      "RangeIndex: 681472 entries, 0 to 681471\n",
      "Data columns (total 4 columns):\n",
      " #   Column  Non-Null Count   Dtype \n",
      "---  ------  --------------   ----- \n",
      " 0   act_id  681472 non-null  object\n",
      " 1   iem_cd  681472 non-null  object\n",
      " 2   byn_dt  681472 non-null  int64 \n",
      " 3   hold_d  681472 non-null  int64 \n",
      "dtypes: int64(2), object(2)\n",
      "memory usage: 20.8+ MB\n"
     ]
    }
   ],
   "source": [
    "train.info()"
   ]
  },
  {
   "cell_type": "code",
   "execution_count": 107,
   "metadata": {},
   "outputs": [
    {
     "name": "stdout",
     "output_type": "stream",
     "text": [
      "<class 'pandas.core.frame.DataFrame'>\n",
      "RangeIndex: 70596 entries, 0 to 70595\n",
      "Data columns (total 2 columns):\n",
      " #   Column     Non-Null Count  Dtype \n",
      "---  ------     --------------  ----- \n",
      " 0   submit_id  70596 non-null  object\n",
      " 1   hold_d     70596 non-null  int64 \n",
      "dtypes: int64(1), object(1)\n",
      "memory usage: 1.1+ MB\n"
     ]
    }
   ],
   "source": [
    "sub.info()"
   ]
  },
  {
   "cell_type": "code",
   "execution_count": 108,
   "metadata": {},
   "outputs": [
    {
     "name": "stdout",
     "output_type": "stream",
     "text": [
      "<class 'pandas.core.frame.DataFrame'>\n",
      "RangeIndex: 70596 entries, 0 to 70595\n",
      "Data columns (total 6 columns):\n",
      " #   Column     Non-Null Count  Dtype \n",
      "---  ------     --------------  ----- \n",
      " 0   act_id     70596 non-null  object\n",
      " 1   iem_cd     70596 non-null  object\n",
      " 2   byn_dt     70596 non-null  int64 \n",
      " 3   hist_d     70596 non-null  int64 \n",
      " 4   submit_id  70596 non-null  object\n",
      " 5   hold_d     70596 non-null  int64 \n",
      "dtypes: int64(3), object(3)\n",
      "memory usage: 3.2+ MB\n"
     ]
    }
   ],
   "source": [
    "test.info()"
   ]
  },
  {
   "cell_type": "code",
   "execution_count": 109,
   "metadata": {},
   "outputs": [
    {
     "name": "stdout",
     "output_type": "stream",
     "text": [
      "<class 'pandas.core.frame.DataFrame'>\n",
      "RangeIndex: 10000 entries, 0 to 9999\n",
      "Data columns (total 10 columns):\n",
      " #   Column             Non-Null Count  Dtype \n",
      "---  ------             --------------  ----- \n",
      " 0   act_id             10000 non-null  object\n",
      " 1   sex_dit_cd         10000 non-null  int64 \n",
      " 2   cus_age_stn_cd     10000 non-null  int64 \n",
      " 3   ivs_icn_cd         10000 non-null  int64 \n",
      " 4   cus_aet_stn_cd     10000 non-null  int64 \n",
      " 5   mrz_pdt_tp_sgm_cd  10000 non-null  int64 \n",
      " 6   lsg_sgm_cd         10000 non-null  int64 \n",
      " 7   tco_cus_grd_cd     10000 non-null  int64 \n",
      " 8   tot_ivs_te_sgm_cd  10000 non-null  int64 \n",
      " 9   mrz_btp_dit_cd     10000 non-null  int64 \n",
      "dtypes: int64(9), object(1)\n",
      "memory usage: 781.4+ KB\n"
     ]
    }
   ],
   "source": [
    "cus.info()"
   ]
  },
  {
   "cell_type": "code",
   "execution_count": 110,
   "metadata": {},
   "outputs": [
    {
     "name": "stdout",
     "output_type": "stream",
     "text": [
      "<class 'pandas.core.frame.DataFrame'>\n",
      "RangeIndex: 3079 entries, 0 to 3078\n",
      "Data columns (total 5 columns):\n",
      " #   Column                Non-Null Count  Dtype \n",
      "---  ------                --------------  ----- \n",
      " 0   iem_cd                3079 non-null   object\n",
      " 1   iem_krl_nm            3079 non-null   object\n",
      " 2   btp_cfc_cd            3079 non-null   int64 \n",
      " 3   mkt_pr_tal_scl_tp_cd  3079 non-null   int64 \n",
      " 4   stk_dit_cd            3079 non-null   int64 \n",
      "dtypes: int64(3), object(2)\n",
      "memory usage: 120.4+ KB\n"
     ]
    }
   ],
   "source": [
    "iem.info()"
   ]
  },
  {
   "cell_type": "code",
   "execution_count": 111,
   "metadata": {},
   "outputs": [
    {
     "name": "stdout",
     "output_type": "stream",
     "text": [
      "<class 'pandas.core.frame.DataFrame'>\n",
      "RangeIndex: 2573839 entries, 0 to 2573838\n",
      "Data columns (total 6 columns):\n",
      " #   Column       Dtype  \n",
      "---  ------       -----  \n",
      " 0   act_id       object \n",
      " 1   bse_dt       int64  \n",
      " 2   iem_cd       object \n",
      " 3   bnc_qty      float64\n",
      " 4   tot_aet_amt  float64\n",
      " 5   stk_par_pr   float64\n",
      "dtypes: float64(3), int64(1), object(2)\n",
      "memory usage: 117.8+ MB\n"
     ]
    }
   ],
   "source": [
    "hist.info()"
   ]
  },
  {
   "cell_type": "markdown",
   "metadata": {},
   "source": [
    "# 데이터 전처리"
   ]
  },
  {
   "cell_type": "markdown",
   "metadata": {
    "id": "VHSj8zZkk0Kb"
   },
   "source": [
    "## train['hist_d']"
   ]
  },
  {
   "cell_type": "code",
   "execution_count": 112,
   "metadata": {},
   "outputs": [],
   "source": [
    "train['hist_d'] = train['hold_d']*0.7\n",
    "train['hist_d'] = np.trunc(train['hist_d'])"
   ]
  },
  {
   "cell_type": "code",
   "execution_count": 113,
   "metadata": {
    "colab": {
     "base_uri": "https://localhost:8080/",
     "height": 470
    },
    "executionInfo": {
     "elapsed": 7,
     "status": "ok",
     "timestamp": 1633945791242,
     "user": {
      "displayName": "소령",
      "photoUrl": "https://lh3.googleusercontent.com/a/default-user=s64",
      "userId": "16197694196490598668"
     },
     "user_tz": -540
    },
    "id": "o2eUgFf0Lker",
    "outputId": "5fb22d68-0354-4617-f1a3-55f2201dce77"
   },
   "outputs": [
    {
     "data": {
      "text/html": [
       "<div>\n",
       "<style scoped>\n",
       "    .dataframe tbody tr th:only-of-type {\n",
       "        vertical-align: middle;\n",
       "    }\n",
       "\n",
       "    .dataframe tbody tr th {\n",
       "        vertical-align: top;\n",
       "    }\n",
       "\n",
       "    .dataframe thead th {\n",
       "        text-align: right;\n",
       "    }\n",
       "</style>\n",
       "<table border=\"1\" class=\"dataframe\">\n",
       "  <thead>\n",
       "    <tr style=\"text-align: right;\">\n",
       "      <th></th>\n",
       "      <th>act_id</th>\n",
       "      <th>iem_cd</th>\n",
       "      <th>byn_dt</th>\n",
       "      <th>hold_d</th>\n",
       "      <th>hist_d</th>\n",
       "    </tr>\n",
       "  </thead>\n",
       "  <tbody>\n",
       "    <tr>\n",
       "      <th>0</th>\n",
       "      <td>0ad104dbed99be0cd858aa772765ddedade554601a981b...</td>\n",
       "      <td>A006360</td>\n",
       "      <td>20180726</td>\n",
       "      <td>11</td>\n",
       "      <td>5.0</td>\n",
       "    </tr>\n",
       "    <tr>\n",
       "      <th>1</th>\n",
       "      <td>0ad104dbed99be0cd858aa772765ddedade554601a981b...</td>\n",
       "      <td>A005930</td>\n",
       "      <td>20180131</td>\n",
       "      <td>80</td>\n",
       "      <td>40.0</td>\n",
       "    </tr>\n",
       "    <tr>\n",
       "      <th>2</th>\n",
       "      <td>0ad104dbed99be0cd858aa772765ddedade554601a981b...</td>\n",
       "      <td>A005070</td>\n",
       "      <td>20180517</td>\n",
       "      <td>5</td>\n",
       "      <td>2.0</td>\n",
       "    </tr>\n",
       "    <tr>\n",
       "      <th>3</th>\n",
       "      <td>0ad104dbed99be0cd858aa772765ddedade554601a981b...</td>\n",
       "      <td>A003520</td>\n",
       "      <td>20201112</td>\n",
       "      <td>22</td>\n",
       "      <td>11.0</td>\n",
       "    </tr>\n",
       "    <tr>\n",
       "      <th>4</th>\n",
       "      <td>0ad104dbed99be0cd858aa772765ddedade554601a981b...</td>\n",
       "      <td>A002310</td>\n",
       "      <td>20180905</td>\n",
       "      <td>324</td>\n",
       "      <td>162.0</td>\n",
       "    </tr>\n",
       "  </tbody>\n",
       "</table>\n",
       "</div>"
      ],
      "text/plain": [
       "                                              act_id   iem_cd    byn_dt  \\\n",
       "0  0ad104dbed99be0cd858aa772765ddedade554601a981b...  A006360  20180726   \n",
       "1  0ad104dbed99be0cd858aa772765ddedade554601a981b...  A005930  20180131   \n",
       "2  0ad104dbed99be0cd858aa772765ddedade554601a981b...  A005070  20180517   \n",
       "3  0ad104dbed99be0cd858aa772765ddedade554601a981b...  A003520  20201112   \n",
       "4  0ad104dbed99be0cd858aa772765ddedade554601a981b...  A002310  20180905   \n",
       "\n",
       "   hold_d  hist_d  \n",
       "0      11     5.0  \n",
       "1      80    40.0  \n",
       "2       5     2.0  \n",
       "3      22    11.0  \n",
       "4     324   162.0  "
      ]
     },
     "execution_count": 113,
     "metadata": {},
     "output_type": "execute_result"
    }
   ],
   "source": [
    "train.head()"
   ]
  },
  {
   "cell_type": "markdown",
   "metadata": {
    "id": "d_k4zIe6xD02"
   },
   "source": [
    "## LifeStage 데이터 수정"
   ]
  },
  {
   "cell_type": "code",
   "execution_count": 114,
   "metadata": {
    "colab": {
     "base_uri": "https://localhost:8080/",
     "height": 142
    },
    "executionInfo": {
     "elapsed": 11,
     "status": "ok",
     "timestamp": 1633945777426,
     "user": {
      "displayName": "소령",
      "photoUrl": "https://lh3.googleusercontent.com/a/default-user=s64",
      "userId": "16197694196490598668"
     },
     "user_tz": -540
    },
    "id": "NprFlY_8B3s-",
    "outputId": "d72f6133-4657-498c-d465-b448af11c00d"
   },
   "outputs": [
    {
     "data": {
      "text/html": [
       "<div>\n",
       "<style scoped>\n",
       "    .dataframe tbody tr th:only-of-type {\n",
       "        vertical-align: middle;\n",
       "    }\n",
       "\n",
       "    .dataframe tbody tr th {\n",
       "        vertical-align: top;\n",
       "    }\n",
       "\n",
       "    .dataframe thead th {\n",
       "        text-align: right;\n",
       "    }\n",
       "</style>\n",
       "<table border=\"1\" class=\"dataframe\">\n",
       "  <thead>\n",
       "    <tr style=\"text-align: right;\">\n",
       "      <th>lsg_sgm_cd</th>\n",
       "      <th>2</th>\n",
       "      <th>3</th>\n",
       "      <th>4</th>\n",
       "      <th>5</th>\n",
       "      <th>6</th>\n",
       "      <th>7</th>\n",
       "      <th>8</th>\n",
       "      <th>9</th>\n",
       "    </tr>\n",
       "    <tr>\n",
       "      <th>sex_dit_cd</th>\n",
       "      <th></th>\n",
       "      <th></th>\n",
       "      <th></th>\n",
       "      <th></th>\n",
       "      <th></th>\n",
       "      <th></th>\n",
       "      <th></th>\n",
       "      <th></th>\n",
       "    </tr>\n",
       "  </thead>\n",
       "  <tbody>\n",
       "    <tr>\n",
       "      <th>1</th>\n",
       "      <td>1100</td>\n",
       "      <td>1926</td>\n",
       "      <td>0</td>\n",
       "      <td>1905</td>\n",
       "      <td>3</td>\n",
       "      <td>827</td>\n",
       "      <td>0</td>\n",
       "      <td>224</td>\n",
       "    </tr>\n",
       "    <tr>\n",
       "      <th>2</th>\n",
       "      <td>760</td>\n",
       "      <td>0</td>\n",
       "      <td>1164</td>\n",
       "      <td>688</td>\n",
       "      <td>848</td>\n",
       "      <td>0</td>\n",
       "      <td>400</td>\n",
       "      <td>155</td>\n",
       "    </tr>\n",
       "  </tbody>\n",
       "</table>\n",
       "</div>"
      ],
      "text/plain": [
       "lsg_sgm_cd     2     3     4     5    6    7    8    9\n",
       "sex_dit_cd                                            \n",
       "1           1100  1926     0  1905    3  827    0  224\n",
       "2            760     0  1164   688  848    0  400  155"
      ]
     },
     "execution_count": 114,
     "metadata": {},
     "output_type": "execute_result"
    }
   ],
   "source": [
    "pd.crosstab(cus['sex_dit_cd'], cus['lsg_sgm_cd'])"
   ]
  },
  {
   "cell_type": "code",
   "execution_count": 115,
   "metadata": {
    "executionInfo": {
     "elapsed": 10,
     "status": "ok",
     "timestamp": 1633945777426,
     "user": {
      "displayName": "소령",
      "photoUrl": "https://lh3.googleusercontent.com/a/default-user=s64",
      "userId": "16197694196490598668"
     },
     "user_tz": -540
    },
    "id": "cq5dXs9SxgPl"
   },
   "outputs": [],
   "source": [
    "# life stage 데이터 수정\n",
    "cus['sex_dit_cd'][ (cus['sex_dit_cd']==1) & (cus['lsg_sgm_cd']==6) ] = 2\n",
    "cus['sex_dit_cd'][ (cus['sex_dit_cd']==2) & (cus['lsg_sgm_cd']==5) ] = 1"
   ]
  },
  {
   "cell_type": "code",
   "execution_count": 116,
   "metadata": {
    "colab": {
     "base_uri": "https://localhost:8080/",
     "height": 142
    },
    "executionInfo": {
     "elapsed": 11,
     "status": "ok",
     "timestamp": 1633945777427,
     "user": {
      "displayName": "소령",
      "photoUrl": "https://lh3.googleusercontent.com/a/default-user=s64",
      "userId": "16197694196490598668"
     },
     "user_tz": -540
    },
    "id": "PL8F7pv7xhAJ",
    "outputId": "d3c37f92-601b-4425-f7ca-96553723521f"
   },
   "outputs": [
    {
     "data": {
      "text/html": [
       "<div>\n",
       "<style scoped>\n",
       "    .dataframe tbody tr th:only-of-type {\n",
       "        vertical-align: middle;\n",
       "    }\n",
       "\n",
       "    .dataframe tbody tr th {\n",
       "        vertical-align: top;\n",
       "    }\n",
       "\n",
       "    .dataframe thead th {\n",
       "        text-align: right;\n",
       "    }\n",
       "</style>\n",
       "<table border=\"1\" class=\"dataframe\">\n",
       "  <thead>\n",
       "    <tr style=\"text-align: right;\">\n",
       "      <th>lsg_sgm_cd</th>\n",
       "      <th>2</th>\n",
       "      <th>3</th>\n",
       "      <th>4</th>\n",
       "      <th>5</th>\n",
       "      <th>6</th>\n",
       "      <th>7</th>\n",
       "      <th>8</th>\n",
       "      <th>9</th>\n",
       "    </tr>\n",
       "    <tr>\n",
       "      <th>sex_dit_cd</th>\n",
       "      <th></th>\n",
       "      <th></th>\n",
       "      <th></th>\n",
       "      <th></th>\n",
       "      <th></th>\n",
       "      <th></th>\n",
       "      <th></th>\n",
       "      <th></th>\n",
       "    </tr>\n",
       "  </thead>\n",
       "  <tbody>\n",
       "    <tr>\n",
       "      <th>1</th>\n",
       "      <td>1100</td>\n",
       "      <td>1926</td>\n",
       "      <td>0</td>\n",
       "      <td>2593</td>\n",
       "      <td>0</td>\n",
       "      <td>827</td>\n",
       "      <td>0</td>\n",
       "      <td>224</td>\n",
       "    </tr>\n",
       "    <tr>\n",
       "      <th>2</th>\n",
       "      <td>760</td>\n",
       "      <td>0</td>\n",
       "      <td>1164</td>\n",
       "      <td>0</td>\n",
       "      <td>851</td>\n",
       "      <td>0</td>\n",
       "      <td>400</td>\n",
       "      <td>155</td>\n",
       "    </tr>\n",
       "  </tbody>\n",
       "</table>\n",
       "</div>"
      ],
      "text/plain": [
       "lsg_sgm_cd     2     3     4     5    6    7    8    9\n",
       "sex_dit_cd                                            \n",
       "1           1100  1926     0  2593    0  827    0  224\n",
       "2            760     0  1164     0  851    0  400  155"
      ]
     },
     "execution_count": 116,
     "metadata": {},
     "output_type": "execute_result"
    }
   ],
   "source": [
    "pd.crosstab(cus['sex_dit_cd'], cus['lsg_sgm_cd'])"
   ]
  },
  {
   "cell_type": "markdown",
   "metadata": {
    "id": "4W8bgoHjk6PN"
   },
   "source": [
    "## 결측처리(서비스등급)"
   ]
  },
  {
   "cell_type": "code",
   "execution_count": 117,
   "metadata": {
    "executionInfo": {
     "elapsed": 535,
     "status": "ok",
     "timestamp": 1633945777952,
     "user": {
      "displayName": "소령",
      "photoUrl": "https://lh3.googleusercontent.com/a/default-user=s64",
      "userId": "16197694196490598668"
     },
     "user_tz": -540
    },
    "id": "1cHhEN5KQa1V"
   },
   "outputs": [],
   "source": [
    "# 서비스 등급 결측치(99)를 자산구간별으로 분배\n",
    "cus['tco_cus_grd_cd'][(cus['tco_cus_grd_cd'] == 99) & (cus['cus_aet_stn_cd'] == 1)] = 3 # 1억 이상, 3억 미만\n",
    "cus['tco_cus_grd_cd'][(cus['tco_cus_grd_cd'] == 99) & (cus['cus_aet_stn_cd'] == 2)] = 3 # 1억 이상, 3억 미만\n",
    "\n",
    "# 서비스 등급 미정의(9)를 자산구간별으로 분배\n",
    "cus['tco_cus_grd_cd'][(cus['tco_cus_grd_cd'] == 9) & (cus['cus_aet_stn_cd'] == 1)] = 9 # 1천 미만\n",
    "cus['tco_cus_grd_cd'][(cus['tco_cus_grd_cd'] == 9) & (cus['cus_aet_stn_cd'] == 2)] = 5 # 1천 이상, 3천 미만\n",
    "cus['tco_cus_grd_cd'][(cus['tco_cus_grd_cd'] == 9) & (cus['cus_aet_stn_cd'] == 3)] = 4 # 3천 이상, 1억 미만\n",
    "cus['tco_cus_grd_cd'][(cus['tco_cus_grd_cd'] == 9) & (cus['cus_aet_stn_cd'] == 4)] = 4 # 3천 이상, 1억 미만\n",
    "cus['tco_cus_grd_cd'][(cus['tco_cus_grd_cd'] == 9) & (cus['cus_aet_stn_cd'] == 5)] = 3 # 1억 이상, 3억 미만\n",
    "\n",
    "# 이외의 서비스 등급 미정의(9)는 고객등급 6으로 설정\n",
    "cus['tco_cus_grd_cd'][(cus['tco_cus_grd_cd'] == 9)] = 6"
   ]
  },
  {
   "cell_type": "code",
   "execution_count": 118,
   "metadata": {
    "executionInfo": {
     "elapsed": 28,
     "status": "ok",
     "timestamp": 1633945777952,
     "user": {
      "displayName": "소령",
      "photoUrl": "https://lh3.googleusercontent.com/a/default-user=s64",
      "userId": "16197694196490598668"
     },
     "user_tz": -540
    },
    "id": "QhM59Xogk8Y5"
   },
   "outputs": [],
   "source": [
    "train = pd.merge(train, cus, how = \"left\", on = [\"act_id\"])\n",
    "train = pd.merge(train, iem, how = \"left\", on = [\"iem_cd\"])\n",
    "\n",
    "test = pd.merge(test, cus, how = \"left\", on = [\"act_id\"])\n",
    "test = pd.merge(test, iem, how = \"left\", on = [\"iem_cd\"])"
   ]
  },
  {
   "cell_type": "code",
   "execution_count": 119,
   "metadata": {
    "colab": {
     "base_uri": "https://localhost:8080/"
    },
    "executionInfo": {
     "elapsed": 29,
     "status": "ok",
     "timestamp": 1633945777953,
     "user": {
      "displayName": "소령",
      "photoUrl": "https://lh3.googleusercontent.com/a/default-user=s64",
      "userId": "16197694196490598668"
     },
     "user_tz": -540
    },
    "id": "EhtJgvCtzop2",
    "outputId": "dd41e50c-f8ac-444c-e492-e0afa2366a95"
   },
   "outputs": [
    {
     "data": {
      "text/plain": [
       "((681472, 18), (70596, 19), (70596, 2))"
      ]
     },
     "execution_count": 119,
     "metadata": {},
     "output_type": "execute_result"
    }
   ],
   "source": [
    "train.shape, test.shape, sub.shape"
   ]
  },
  {
   "cell_type": "markdown",
   "metadata": {
    "id": "4O-hKSYxK7dk"
   },
   "source": [
    "## merge(train, hist)"
   ]
  },
  {
   "cell_type": "code",
   "execution_count": 120,
   "metadata": {
    "executionInfo": {
     "elapsed": 4173,
     "status": "ok",
     "timestamp": 1633945795409,
     "user": {
      "displayName": "소령",
      "photoUrl": "https://lh3.googleusercontent.com/a/default-user=s64",
      "userId": "16197694196490598668"
     },
     "user_tz": -540
    },
    "id": "mQ92Xylbmoza"
   },
   "outputs": [],
   "source": [
    "train = pd.merge(train, hist, how = \"left\", on = [\"act_id\", \"iem_cd\"])\n",
    "test = pd.merge(test, hist, how = \"left\", on = [\"act_id\", \"iem_cd\"])"
   ]
  },
  {
   "cell_type": "markdown",
   "metadata": {
    "id": "2f1p-6owsiQP"
   },
   "source": [
    "### 매수일자 == 기준일자 "
   ]
  },
  {
   "cell_type": "code",
   "execution_count": 121,
   "metadata": {
    "executionInfo": {
     "elapsed": 1220,
     "status": "ok",
     "timestamp": 1633945796624,
     "user": {
      "displayName": "소령",
      "photoUrl": "https://lh3.googleusercontent.com/a/default-user=s64",
      "userId": "16197694196490598668"
     },
     "user_tz": -540
    },
    "id": "aqtypY3E0KcS"
   },
   "outputs": [],
   "source": [
    "train = train[(train[\"byn_dt\"] == train[\"bse_dt\"])]\n",
    "train.reset_index(drop = True, inplace = True)\n",
    "test = test[(test[\"byn_dt\"] == test[\"bse_dt\"])]\n",
    "test.reset_index(drop = True, inplace = True)"
   ]
  },
  {
   "cell_type": "code",
   "execution_count": 122,
   "metadata": {
    "colab": {
     "base_uri": "https://localhost:8080/"
    },
    "executionInfo": {
     "elapsed": 16,
     "status": "ok",
     "timestamp": 1633945796625,
     "user": {
      "displayName": "소령",
      "photoUrl": "https://lh3.googleusercontent.com/a/default-user=s64",
      "userId": "16197694196490598668"
     },
     "user_tz": -540
    },
    "id": "IOpBcIDU0nDD",
    "outputId": "774126a3-a4e1-48d6-e216-b5895909bf8d"
   },
   "outputs": [
    {
     "data": {
      "text/plain": [
       "((681472, 22), (70596, 23), (70596, 2))"
      ]
     },
     "execution_count": 122,
     "metadata": {},
     "output_type": "execute_result"
    }
   ],
   "source": [
    "train.shape, test.shape, sub.shape"
   ]
  },
  {
   "cell_type": "markdown",
   "metadata": {
    "id": "cW-6DRPdlA97"
   },
   "source": [
    "## 상관분석"
   ]
  },
  {
   "cell_type": "code",
   "execution_count": 123,
   "metadata": {
    "colab": {
     "base_uri": "https://localhost:8080/",
     "height": 992
    },
    "executionInfo": {
     "elapsed": 3600,
     "status": "ok",
     "timestamp": 1633945800220,
     "user": {
      "displayName": "소령",
      "photoUrl": "https://lh3.googleusercontent.com/a/default-user=s64",
      "userId": "16197694196490598668"
     },
     "user_tz": -540
    },
    "id": "ZQ5_Yarkk_UD",
    "outputId": "c84b8bfb-9d0e-491b-d6d5-1615c8da2e05"
   },
   "outputs": [
    {
     "data": {
      "text/plain": [
       "<AxesSubplot:>"
      ]
     },
     "execution_count": 123,
     "metadata": {},
     "output_type": "execute_result"
    },
    {
     "data": {
      "image/png": "[encoded data removed]",
      "text/plain": [
       "<Figure size 1080x1080 with 2 Axes>"
      ]
     },
     "metadata": {},
     "output_type": "display_data"
    }
   ],
   "source": [
    "fig, ax = plt.subplots(figsize=(15, 15))\n",
    "sns.heatmap(train.corr(), fmt='.2f', annot=True, cmap='Blues')"
   ]
  },
  {
   "cell_type": "markdown",
   "metadata": {
    "id": "JJQ389BnlE1L"
   },
   "source": [
    "## 삭제할 컬럼 \n",
    "- iem_cd: 종목명이랑 겹쳐서 drop\n",
    "- ivs_icn_cd: 주관적인 컬럼이라 drop\n",
    "- mrz_pdt_tp_sgm_cd: 대부분 국내주식이기에 의미없는 컬럼이라 drop\n",
    "- bse_dt, byn_dt: year, month 컬럼 만들어서 drop\n",
    "- stk_par_pr: 액면가 drop\n",
    "- sex_dit_cd : lifestage에 성별 있어서 drop"
   ]
  },
  {
   "cell_type": "code",
   "execution_count": 124,
   "metadata": {
    "executionInfo": {
     "elapsed": 708,
     "status": "ok",
     "timestamp": 1633945800919,
     "user": {
      "displayName": "소령",
      "photoUrl": "https://lh3.googleusercontent.com/a/default-user=s64",
      "userId": "16197694196490598668"
     },
     "user_tz": -540
    },
    "id": "7v2WpFOEk_V8"
   },
   "outputs": [],
   "source": [
    "drop_cols = ['iem_cd', 'ivs_icn_cd', 'mrz_pdt_tp_sgm_cd', 'stk_par_pr', 'bse_dt', 'sex_dit_cd'] # , 'lsg_sgm_cd' // iem_krl_nm or iem_cd 'byn_dt',\n",
    "for col in drop_cols:\n",
    "    train.drop(col, axis=1, inplace= True)\n",
    "    test.drop(col, axis=1, inplace= True)"
   ]
  },
  {
   "cell_type": "code",
   "execution_count": 125,
   "metadata": {
    "executionInfo": {
     "elapsed": 30,
     "status": "ok",
     "timestamp": 1633945800920,
     "user": {
      "displayName": "소령",
      "photoUrl": "https://lh3.googleusercontent.com/a/default-user=s64",
      "userId": "16197694196490598668"
     },
     "user_tz": -540
    },
    "id": "GRT_AYH6pQ34"
   },
   "outputs": [],
   "source": [
    "test = test.drop('submit_id', axis=1)"
   ]
  },
  {
   "cell_type": "code",
   "execution_count": 126,
   "metadata": {
    "colab": {
     "base_uri": "https://localhost:8080/"
    },
    "executionInfo": {
     "elapsed": 29,
     "status": "ok",
     "timestamp": 1633945800920,
     "user": {
      "displayName": "소령",
      "photoUrl": "https://lh3.googleusercontent.com/a/default-user=s64",
      "userId": "16197694196490598668"
     },
     "user_tz": -540
    },
    "id": "yDuHrCNPlbum",
    "outputId": "b6509c74-f677-4091-dede-247b51d48ce7"
   },
   "outputs": [
    {
     "data": {
      "text/plain": [
       "(Index(['act_id', 'byn_dt', 'hold_d', 'hist_d', 'cus_age_stn_cd',\n",
       "        'cus_aet_stn_cd', 'lsg_sgm_cd', 'tco_cus_grd_cd', 'tot_ivs_te_sgm_cd',\n",
       "        'mrz_btp_dit_cd', 'iem_krl_nm', 'btp_cfc_cd', 'mkt_pr_tal_scl_tp_cd',\n",
       "        'stk_dit_cd', 'bnc_qty', 'tot_aet_amt'],\n",
       "       dtype='object'),\n",
       " Index(['act_id', 'byn_dt', 'hist_d', 'hold_d', 'cus_age_stn_cd',\n",
       "        'cus_aet_stn_cd', 'lsg_sgm_cd', 'tco_cus_grd_cd', 'tot_ivs_te_sgm_cd',\n",
       "        'mrz_btp_dit_cd', 'iem_krl_nm', 'btp_cfc_cd', 'mkt_pr_tal_scl_tp_cd',\n",
       "        'stk_dit_cd', 'bnc_qty', 'tot_aet_amt'],\n",
       "       dtype='object'))"
      ]
     },
     "execution_count": 126,
     "metadata": {},
     "output_type": "execute_result"
    }
   ],
   "source": [
    "train.columns, test.columns"
   ]
  },
  {
   "cell_type": "markdown",
   "metadata": {
    "id": "oFKhp75wlbIr"
   },
   "source": [
    "## LabelEncoder"
   ]
  },
  {
   "cell_type": "code",
   "execution_count": 127,
   "metadata": {
    "colab": {
     "base_uri": "https://localhost:8080/"
    },
    "executionInfo": {
     "elapsed": 28,
     "status": "ok",
     "timestamp": 1633945800921,
     "user": {
      "displayName": "소령",
      "photoUrl": "https://lh3.googleusercontent.com/a/default-user=s64",
      "userId": "16197694196490598668"
     },
     "user_tz": -540
    },
    "id": "gh-F4gLak_Xr",
    "outputId": "88f49be4-fa74-46cb-b895-76549cede5fb"
   },
   "outputs": [
    {
     "name": "stdout",
     "output_type": "stream",
     "text": [
      "act_id\n",
      "iem_krl_nm\n"
     ]
    }
   ],
   "source": [
    "for col in train.columns:\n",
    "    if train[col].dtypes == 'object':\n",
    "        print(col)"
   ]
  },
  {
   "cell_type": "code",
   "execution_count": 128,
   "metadata": {
    "executionInfo": {
     "elapsed": 23,
     "status": "ok",
     "timestamp": 1633945800921,
     "user": {
      "displayName": "소령",
      "photoUrl": "https://lh3.googleusercontent.com/a/default-user=s64",
      "userId": "16197694196490598668"
     },
     "user_tz": -540
    },
    "id": "AhEm4v5UlhFu"
   },
   "outputs": [],
   "source": [
    "encoder = LabelEncoder()\n",
    "encoder.fit(iem['iem_krl_nm'])\n",
    "train['iem_krl_nm'] = encoder.transform(train['iem_krl_nm'])\n",
    "test['iem_krl_nm'] = encoder.transform(test['iem_krl_nm'])"
   ]
  },
  {
   "cell_type": "code",
   "execution_count": 129,
   "metadata": {
    "executionInfo": {
     "elapsed": 24,
     "status": "ok",
     "timestamp": 1633945800922,
     "user": {
      "displayName": "소령",
      "photoUrl": "https://lh3.googleusercontent.com/a/default-user=s64",
      "userId": "16197694196490598668"
     },
     "user_tz": -540
    },
    "id": "QtM0av_vlh06"
   },
   "outputs": [],
   "source": [
    "encoder = LabelEncoder()\n",
    "encoder.fit(cus['act_id'])\n",
    "train['act_id'] = encoder.transform(train['act_id'])\n",
    "test['act_id'] = encoder.transform(test['act_id'])"
   ]
  },
  {
   "cell_type": "markdown",
   "metadata": {
    "id": "sgOo2giJcwb2"
   },
   "source": [
    "## PCA(LifeStage & 연령대)"
   ]
  },
  {
   "cell_type": "code",
   "execution_count": 130,
   "metadata": {
    "colab": {
     "base_uri": "https://localhost:8080/",
     "height": 203
    },
    "executionInfo": {
     "elapsed": 25,
     "status": "ok",
     "timestamp": 1633945800925,
     "user": {
      "displayName": "소령",
      "photoUrl": "https://lh3.googleusercontent.com/a/default-user=s64",
      "userId": "16197694196490598668"
     },
     "user_tz": -540
    },
    "id": "FI_dKAsLcx36",
    "outputId": "9be9cfec-e373-4d28-985a-9354304a4fb6"
   },
   "outputs": [
    {
     "data": {
      "text/html": [
       "<div>\n",
       "<style scoped>\n",
       "    .dataframe tbody tr th:only-of-type {\n",
       "        vertical-align: middle;\n",
       "    }\n",
       "\n",
       "    .dataframe tbody tr th {\n",
       "        vertical-align: top;\n",
       "    }\n",
       "\n",
       "    .dataframe thead th {\n",
       "        text-align: right;\n",
       "    }\n",
       "</style>\n",
       "<table border=\"1\" class=\"dataframe\">\n",
       "  <thead>\n",
       "    <tr style=\"text-align: right;\">\n",
       "      <th></th>\n",
       "      <th>cus_age_stn_cd</th>\n",
       "      <th>lsg_sgm_cd</th>\n",
       "    </tr>\n",
       "  </thead>\n",
       "  <tbody>\n",
       "    <tr>\n",
       "      <th>0</th>\n",
       "      <td>9</td>\n",
       "      <td>9</td>\n",
       "    </tr>\n",
       "    <tr>\n",
       "      <th>1</th>\n",
       "      <td>9</td>\n",
       "      <td>9</td>\n",
       "    </tr>\n",
       "    <tr>\n",
       "      <th>2</th>\n",
       "      <td>9</td>\n",
       "      <td>9</td>\n",
       "    </tr>\n",
       "    <tr>\n",
       "      <th>3</th>\n",
       "      <td>9</td>\n",
       "      <td>9</td>\n",
       "    </tr>\n",
       "    <tr>\n",
       "      <th>4</th>\n",
       "      <td>9</td>\n",
       "      <td>9</td>\n",
       "    </tr>\n",
       "  </tbody>\n",
       "</table>\n",
       "</div>"
      ],
      "text/plain": [
       "   cus_age_stn_cd  lsg_sgm_cd\n",
       "0               9           9\n",
       "1               9           9\n",
       "2               9           9\n",
       "3               9           9\n",
       "4               9           9"
      ]
     },
     "execution_count": 130,
     "metadata": {},
     "output_type": "execute_result"
    }
   ],
   "source": [
    "train[['cus_age_stn_cd','lsg_sgm_cd']].head()"
   ]
  },
  {
   "cell_type": "code",
   "execution_count": 131,
   "metadata": {
    "colab": {
     "base_uri": "https://localhost:8080/"
    },
    "executionInfo": {
     "elapsed": 25,
     "status": "ok",
     "timestamp": 1633945800926,
     "user": {
      "displayName": "소령",
      "photoUrl": "https://lh3.googleusercontent.com/a/default-user=s64",
      "userId": "16197694196490598668"
     },
     "user_tz": -540
    },
    "id": "Z1TwxrIFdcX9",
    "outputId": "cb039e41-7930-46d8-94a7-87e24fd0f08a"
   },
   "outputs": [
    {
     "name": "stdout",
     "output_type": "stream",
     "text": [
      "[0.93193502]\n"
     ]
    }
   ],
   "source": [
    "pca = PCA(n_components=1)\n",
    "pca.fit(train[['cus_age_stn_cd','lsg_sgm_cd']])\n",
    "train['PCA_age_lsg'] = pca.transform(train[['cus_age_stn_cd','lsg_sgm_cd']])\n",
    "pca.fit(test[['cus_age_stn_cd','lsg_sgm_cd']])\n",
    "test['PCA_age_lsg'] = pca.transform(test[['cus_age_stn_cd','lsg_sgm_cd']])\n",
    "\n",
    "print(pca.explained_variance_ratio_)"
   ]
  },
  {
   "cell_type": "code",
   "execution_count": 132,
   "metadata": {
    "colab": {
     "base_uri": "https://localhost:8080/"
    },
    "executionInfo": {
     "elapsed": 19,
     "status": "ok",
     "timestamp": 1633945800926,
     "user": {
      "displayName": "소령",
      "photoUrl": "https://lh3.googleusercontent.com/a/default-user=s64",
      "userId": "16197694196490598668"
     },
     "user_tz": -540
    },
    "id": "r7-ZmwmayFds",
    "outputId": "994a3efc-7d34-42b8-b698-495353ad6741"
   },
   "outputs": [
    {
     "data": {
      "text/plain": [
       "0         5.563337\n",
       "1         5.563337\n",
       "2         5.563337\n",
       "3         5.563337\n",
       "4         5.563337\n",
       "            ...   \n",
       "681467   -2.178993\n",
       "681468   -2.178993\n",
       "681469   -2.178993\n",
       "681470   -2.178993\n",
       "681471   -2.178993\n",
       "Name: PCA_age_lsg, Length: 681472, dtype: float64"
      ]
     },
     "execution_count": 132,
     "metadata": {},
     "output_type": "execute_result"
    }
   ],
   "source": [
    "train['PCA_age_lsg']"
   ]
  },
  {
   "cell_type": "code",
   "execution_count": 133,
   "metadata": {
    "executionInfo": {
     "elapsed": 15,
     "status": "ok",
     "timestamp": 1633945800926,
     "user": {
      "displayName": "소령",
      "photoUrl": "https://lh3.googleusercontent.com/a/default-user=s64",
      "userId": "16197694196490598668"
     },
     "user_tz": -540
    },
    "id": "RcLY-hUzddbN"
   },
   "outputs": [],
   "source": [
    "train.drop(['cus_age_stn_cd','lsg_sgm_cd'], axis=1, inplace=True)\n",
    "test.drop(['cus_age_stn_cd','lsg_sgm_cd'], axis=1, inplace=True)"
   ]
  },
  {
   "cell_type": "markdown",
   "metadata": {
    "id": "d6KHYzGYvg5l"
   },
   "source": [
    "## PCA(자산구간 & 서비스등급)"
   ]
  },
  {
   "cell_type": "code",
   "execution_count": 134,
   "metadata": {
    "colab": {
     "base_uri": "https://localhost:8080/",
     "height": 203
    },
    "executionInfo": {
     "elapsed": 16,
     "status": "ok",
     "timestamp": 1633945800927,
     "user": {
      "displayName": "소령",
      "photoUrl": "https://lh3.googleusercontent.com/a/default-user=s64",
      "userId": "16197694196490598668"
     },
     "user_tz": -540
    },
    "id": "yHbrKYnZvqOo",
    "outputId": "6d0f3d5c-b505-461e-8d22-93f2d8b8b3e9"
   },
   "outputs": [
    {
     "data": {
      "text/html": [
       "<div>\n",
       "<style scoped>\n",
       "    .dataframe tbody tr th:only-of-type {\n",
       "        vertical-align: middle;\n",
       "    }\n",
       "\n",
       "    .dataframe tbody tr th {\n",
       "        vertical-align: top;\n",
       "    }\n",
       "\n",
       "    .dataframe thead th {\n",
       "        text-align: right;\n",
       "    }\n",
       "</style>\n",
       "<table border=\"1\" class=\"dataframe\">\n",
       "  <thead>\n",
       "    <tr style=\"text-align: right;\">\n",
       "      <th></th>\n",
       "      <th>cus_aet_stn_cd</th>\n",
       "      <th>tco_cus_grd_cd</th>\n",
       "    </tr>\n",
       "  </thead>\n",
       "  <tbody>\n",
       "    <tr>\n",
       "      <th>0</th>\n",
       "      <td>2</td>\n",
       "      <td>5</td>\n",
       "    </tr>\n",
       "    <tr>\n",
       "      <th>1</th>\n",
       "      <td>2</td>\n",
       "      <td>5</td>\n",
       "    </tr>\n",
       "    <tr>\n",
       "      <th>2</th>\n",
       "      <td>2</td>\n",
       "      <td>5</td>\n",
       "    </tr>\n",
       "    <tr>\n",
       "      <th>3</th>\n",
       "      <td>2</td>\n",
       "      <td>5</td>\n",
       "    </tr>\n",
       "    <tr>\n",
       "      <th>4</th>\n",
       "      <td>2</td>\n",
       "      <td>5</td>\n",
       "    </tr>\n",
       "  </tbody>\n",
       "</table>\n",
       "</div>"
      ],
      "text/plain": [
       "   cus_aet_stn_cd  tco_cus_grd_cd\n",
       "0               2               5\n",
       "1               2               5\n",
       "2               2               5\n",
       "3               2               5\n",
       "4               2               5"
      ]
     },
     "execution_count": 134,
     "metadata": {},
     "output_type": "execute_result"
    }
   ],
   "source": [
    "train[['cus_aet_stn_cd','tco_cus_grd_cd']].head()"
   ]
  },
  {
   "cell_type": "code",
   "execution_count": 135,
   "metadata": {
    "colab": {
     "base_uri": "https://localhost:8080/"
    },
    "executionInfo": {
     "elapsed": 640,
     "status": "ok",
     "timestamp": 1633945801552,
     "user": {
      "displayName": "소령",
      "photoUrl": "https://lh3.googleusercontent.com/a/default-user=s64",
      "userId": "16197694196490598668"
     },
     "user_tz": -540
    },
    "id": "yxWeDqcWvduZ",
    "outputId": "ca5e1b56-b618-40db-a625-622af1c37d14"
   },
   "outputs": [
    {
     "name": "stdout",
     "output_type": "stream",
     "text": [
      "[0.94850782]\n"
     ]
    }
   ],
   "source": [
    "pca = PCA(n_components=1)\n",
    "pca.fit(train[['cus_aet_stn_cd','tco_cus_grd_cd']])\n",
    "train['PCA_cus'] = pca.transform(train[['cus_aet_stn_cd','tco_cus_grd_cd']])\n",
    "pca.fit(test[['cus_aet_stn_cd','tco_cus_grd_cd']])\n",
    "test['PCA_cus'] = pca.transform(test[['cus_aet_stn_cd','tco_cus_grd_cd']])\n",
    "\n",
    "print(pca.explained_variance_ratio_)"
   ]
  },
  {
   "cell_type": "code",
   "execution_count": 136,
   "metadata": {
    "colab": {
     "base_uri": "https://localhost:8080/"
    },
    "executionInfo": {
     "elapsed": 11,
     "status": "ok",
     "timestamp": 1633945801553,
     "user": {
      "displayName": "소령",
      "photoUrl": "https://lh3.googleusercontent.com/a/default-user=s64",
      "userId": "16197694196490598668"
     },
     "user_tz": -540
    },
    "id": "HculbRzKv-e6",
    "outputId": "8bf9331b-ae0c-439b-e87a-d64ca0a74b99"
   },
   "outputs": [
    {
     "data": {
      "text/plain": [
       "0        -1.085031\n",
       "1        -1.085031\n",
       "2        -1.085031\n",
       "3        -1.085031\n",
       "4        -1.085031\n",
       "            ...   \n",
       "681467   -0.488011\n",
       "681468   -0.488011\n",
       "681469   -0.488011\n",
       "681470   -0.488011\n",
       "681471   -0.488011\n",
       "Name: PCA_cus, Length: 681472, dtype: float64"
      ]
     },
     "execution_count": 136,
     "metadata": {},
     "output_type": "execute_result"
    }
   ],
   "source": [
    "train['PCA_cus']"
   ]
  },
  {
   "cell_type": "code",
   "execution_count": 137,
   "metadata": {
    "executionInfo": {
     "elapsed": 7,
     "status": "ok",
     "timestamp": 1633945801553,
     "user": {
      "displayName": "소령",
      "photoUrl": "https://lh3.googleusercontent.com/a/default-user=s64",
      "userId": "16197694196490598668"
     },
     "user_tz": -540
    },
    "id": "C5l9HPzhv_9d"
   },
   "outputs": [],
   "source": [
    "train.drop(['cus_aet_stn_cd','tco_cus_grd_cd'], axis=1, inplace=True)\n",
    "test.drop(['cus_aet_stn_cd','tco_cus_grd_cd'], axis=1, inplace=True)"
   ]
  },
  {
   "cell_type": "markdown",
   "metadata": {
    "id": "UOCFP4rwrCs8"
   },
   "source": [
    "## 스케일링(RobustScaler)"
   ]
  },
  {
   "cell_type": "code",
   "execution_count": 138,
   "metadata": {
    "colab": {
     "base_uri": "https://localhost:8080/"
    },
    "executionInfo": {
     "elapsed": 7,
     "status": "ok",
     "timestamp": 1633945801553,
     "user": {
      "displayName": "소령",
      "photoUrl": "https://lh3.googleusercontent.com/a/default-user=s64",
      "userId": "16197694196490598668"
     },
     "user_tz": -540
    },
    "id": "WnMhK4Q63K-p",
    "outputId": "d234b879-cb7a-4760-db02-bb7dcdc396f3"
   },
   "outputs": [
    {
     "data": {
      "text/plain": [
       "Index(['act_id', 'byn_dt', 'hist_d', 'tot_ivs_te_sgm_cd', 'mrz_btp_dit_cd',\n",
       "       'iem_krl_nm', 'btp_cfc_cd', 'mkt_pr_tal_scl_tp_cd', 'stk_dit_cd',\n",
       "       'bnc_qty', 'tot_aet_amt', 'PCA_age_lsg', 'PCA_cus'],\n",
       "      dtype='object')"
      ]
     },
     "execution_count": 138,
     "metadata": {},
     "output_type": "execute_result"
    }
   ],
   "source": [
    "scaler_cols = train.drop('hold_d', axis=1).columns\n",
    "scaler_cols"
   ]
  },
  {
   "cell_type": "code",
   "execution_count": 139,
   "metadata": {
    "executionInfo": {
     "elapsed": 531,
     "status": "ok",
     "timestamp": 1633945802081,
     "user": {
      "displayName": "소령",
      "photoUrl": "https://lh3.googleusercontent.com/a/default-user=s64",
      "userId": "16197694196490598668"
     },
     "user_tz": -540
    },
    "id": "FzIFTAEMxco3"
   },
   "outputs": [],
   "source": [
    "scaler = RobustScaler()\n",
    "\n",
    "for col in scaler_cols:\n",
    "    scaler.fit(np.array(train[col]).reshape(-1,1))\n",
    "    train[col] = scaler.transform(np.array(train[col]).reshape(-1,1))\n",
    "    test[col] = scaler.transform(np.array(test[col]).reshape(-1,1))\n",
    "\n",
    "scaler_train = train\n",
    "scaler_test = test\n",
    "\n",
    "scaler_train['hold_d'] = np.log1p(scaler_train['hold_d'])\n",
    "scaler_test['hold_d'] = np.log1p(scaler_test['hold_d'])"
   ]
  },
  {
   "cell_type": "code",
   "execution_count": 140,
   "metadata": {
    "colab": {
     "base_uri": "https://localhost:8080/",
     "height": 437
    },
    "executionInfo": {
     "elapsed": 11,
     "status": "ok",
     "timestamp": 1633945802082,
     "user": {
      "displayName": "소령",
      "photoUrl": "https://lh3.googleusercontent.com/a/default-user=s64",
      "userId": "16197694196490598668"
     },
     "user_tz": -540
    },
    "id": "BZ016rz_3njD",
    "outputId": "19e8a602-fdae-48bb-c821-fed3d11f1f13"
   },
   "outputs": [
    {
     "data": {
      "text/html": [
       "<div>\n",
       "<style scoped>\n",
       "    .dataframe tbody tr th:only-of-type {\n",
       "        vertical-align: middle;\n",
       "    }\n",
       "\n",
       "    .dataframe tbody tr th {\n",
       "        vertical-align: top;\n",
       "    }\n",
       "\n",
       "    .dataframe thead th {\n",
       "        text-align: right;\n",
       "    }\n",
       "</style>\n",
       "<table border=\"1\" class=\"dataframe\">\n",
       "  <thead>\n",
       "    <tr style=\"text-align: right;\">\n",
       "      <th></th>\n",
       "      <th>act_id</th>\n",
       "      <th>byn_dt</th>\n",
       "      <th>hold_d</th>\n",
       "      <th>hist_d</th>\n",
       "      <th>tot_ivs_te_sgm_cd</th>\n",
       "      <th>mrz_btp_dit_cd</th>\n",
       "      <th>iem_krl_nm</th>\n",
       "      <th>btp_cfc_cd</th>\n",
       "      <th>mkt_pr_tal_scl_tp_cd</th>\n",
       "      <th>stk_dit_cd</th>\n",
       "      <th>bnc_qty</th>\n",
       "      <th>tot_aet_amt</th>\n",
       "      <th>PCA_age_lsg</th>\n",
       "      <th>PCA_cus</th>\n",
       "    </tr>\n",
       "  </thead>\n",
       "  <tbody>\n",
       "    <tr>\n",
       "      <th>0</th>\n",
       "      <td>-0.825979</td>\n",
       "      <td>-1.930301</td>\n",
       "      <td>2.484907</td>\n",
       "      <td>0.428571</td>\n",
       "      <td>2.0</td>\n",
       "      <td>-0.666667</td>\n",
       "      <td>-1.096168</td>\n",
       "      <td>-1.500000</td>\n",
       "      <td>-0.5</td>\n",
       "      <td>-1.010309</td>\n",
       "      <td>0.917012</td>\n",
       "      <td>4.213264</td>\n",
       "      <td>1.189954</td>\n",
       "      <td>-0.271191</td>\n",
       "    </tr>\n",
       "    <tr>\n",
       "      <th>1</th>\n",
       "      <td>-0.825979</td>\n",
       "      <td>-1.988629</td>\n",
       "      <td>4.394449</td>\n",
       "      <td>5.428571</td>\n",
       "      <td>2.0</td>\n",
       "      <td>-0.666667</td>\n",
       "      <td>-0.185105</td>\n",
       "      <td>-0.166667</td>\n",
       "      <td>-0.5</td>\n",
       "      <td>-1.010309</td>\n",
       "      <td>-0.211618</td>\n",
       "      <td>1.586814</td>\n",
       "      <td>1.189954</td>\n",
       "      <td>-0.271191</td>\n",
       "    </tr>\n",
       "    <tr>\n",
       "      <th>2</th>\n",
       "      <td>-0.825979</td>\n",
       "      <td>-1.950789</td>\n",
       "      <td>1.791759</td>\n",
       "      <td>0.000000</td>\n",
       "      <td>2.0</td>\n",
       "      <td>-0.666667</td>\n",
       "      <td>0.660159</td>\n",
       "      <td>0.333333</td>\n",
       "      <td>0.0</td>\n",
       "      <td>0.000000</td>\n",
       "      <td>3.041494</td>\n",
       "      <td>5.310557</td>\n",
       "      <td>1.189954</td>\n",
       "      <td>-0.271191</td>\n",
       "    </tr>\n",
       "    <tr>\n",
       "      <th>3</th>\n",
       "      <td>-0.825979</td>\n",
       "      <td>0.068131</td>\n",
       "      <td>3.135494</td>\n",
       "      <td>1.285714</td>\n",
       "      <td>2.0</td>\n",
       "      <td>-0.666667</td>\n",
       "      <td>0.254519</td>\n",
       "      <td>-0.333333</td>\n",
       "      <td>0.0</td>\n",
       "      <td>-1.010309</td>\n",
       "      <td>0.029046</td>\n",
       "      <td>-0.164153</td>\n",
       "      <td>1.189954</td>\n",
       "      <td>-0.271191</td>\n",
       "    </tr>\n",
       "    <tr>\n",
       "      <th>4</th>\n",
       "      <td>-0.825979</td>\n",
       "      <td>-1.912754</td>\n",
       "      <td>5.783825</td>\n",
       "      <td>22.857143</td>\n",
       "      <td>2.0</td>\n",
       "      <td>-0.666667</td>\n",
       "      <td>0.057122</td>\n",
       "      <td>0.000000</td>\n",
       "      <td>0.5</td>\n",
       "      <td>0.000000</td>\n",
       "      <td>0.539419</td>\n",
       "      <td>2.799188</td>\n",
       "      <td>1.189954</td>\n",
       "      <td>-0.271191</td>\n",
       "    </tr>\n",
       "    <tr>\n",
       "      <th>...</th>\n",
       "      <td>...</td>\n",
       "      <td>...</td>\n",
       "      <td>...</td>\n",
       "      <td>...</td>\n",
       "      <td>...</td>\n",
       "      <td>...</td>\n",
       "      <td>...</td>\n",
       "      <td>...</td>\n",
       "      <td>...</td>\n",
       "      <td>...</td>\n",
       "      <td>...</td>\n",
       "      <td>...</td>\n",
       "      <td>...</td>\n",
       "      <td>...</td>\n",
       "    </tr>\n",
       "    <tr>\n",
       "      <th>681467</th>\n",
       "      <td>-0.388718</td>\n",
       "      <td>-1.920008</td>\n",
       "      <td>0.693147</td>\n",
       "      <td>-0.285714</td>\n",
       "      <td>0.0</td>\n",
       "      <td>-0.666667</td>\n",
       "      <td>0.097614</td>\n",
       "      <td>0.000000</td>\n",
       "      <td>0.5</td>\n",
       "      <td>0.000000</td>\n",
       "      <td>0.605809</td>\n",
       "      <td>1.023105</td>\n",
       "      <td>-0.662009</td>\n",
       "      <td>0.000000</td>\n",
       "    </tr>\n",
       "    <tr>\n",
       "      <th>681468</th>\n",
       "      <td>-0.388718</td>\n",
       "      <td>0.059798</td>\n",
       "      <td>0.693147</td>\n",
       "      <td>-0.285714</td>\n",
       "      <td>0.0</td>\n",
       "      <td>-0.666667</td>\n",
       "      <td>0.525669</td>\n",
       "      <td>-0.333333</td>\n",
       "      <td>0.0</td>\n",
       "      <td>0.000000</td>\n",
       "      <td>1.804979</td>\n",
       "      <td>8.535924</td>\n",
       "      <td>-0.662009</td>\n",
       "      <td>0.000000</td>\n",
       "    </tr>\n",
       "    <tr>\n",
       "      <th>681469</th>\n",
       "      <td>-0.388718</td>\n",
       "      <td>-1.891579</td>\n",
       "      <td>0.693147</td>\n",
       "      <td>-0.285714</td>\n",
       "      <td>0.0</td>\n",
       "      <td>-0.666667</td>\n",
       "      <td>-0.792480</td>\n",
       "      <td>-1.333333</td>\n",
       "      <td>0.0</td>\n",
       "      <td>0.000000</td>\n",
       "      <td>8.950207</td>\n",
       "      <td>3.216609</td>\n",
       "      <td>-0.662009</td>\n",
       "      <td>0.000000</td>\n",
       "    </tr>\n",
       "    <tr>\n",
       "      <th>681470</th>\n",
       "      <td>-0.388718</td>\n",
       "      <td>-0.019900</td>\n",
       "      <td>0.693147</td>\n",
       "      <td>-0.285714</td>\n",
       "      <td>0.0</td>\n",
       "      <td>-0.666667</td>\n",
       "      <td>0.609544</td>\n",
       "      <td>-1.333333</td>\n",
       "      <td>0.5</td>\n",
       "      <td>0.000000</td>\n",
       "      <td>0.962656</td>\n",
       "      <td>0.709687</td>\n",
       "      <td>-0.662009</td>\n",
       "      <td>0.000000</td>\n",
       "    </tr>\n",
       "    <tr>\n",
       "      <th>681471</th>\n",
       "      <td>-0.388718</td>\n",
       "      <td>-0.029507</td>\n",
       "      <td>0.693147</td>\n",
       "      <td>-0.285714</td>\n",
       "      <td>0.0</td>\n",
       "      <td>-0.666667</td>\n",
       "      <td>-0.626898</td>\n",
       "      <td>-0.500000</td>\n",
       "      <td>0.5</td>\n",
       "      <td>0.000000</td>\n",
       "      <td>1.066390</td>\n",
       "      <td>1.215584</td>\n",
       "      <td>-0.662009</td>\n",
       "      <td>0.000000</td>\n",
       "    </tr>\n",
       "  </tbody>\n",
       "</table>\n",
       "<p>681472 rows × 14 columns</p>\n",
       "</div>"
      ],
      "text/plain": [
       "          act_id    byn_dt    hold_d     hist_d  tot_ivs_te_sgm_cd  \\\n",
       "0      -0.825979 -1.930301  2.484907   0.428571                2.0   \n",
       "1      -0.825979 -1.988629  4.394449   5.428571                2.0   \n",
       "2      -0.825979 -1.950789  1.791759   0.000000                2.0   \n",
       "3      -0.825979  0.068131  3.135494   1.285714                2.0   \n",
       "4      -0.825979 -1.912754  5.783825  22.857143                2.0   \n",
       "...          ...       ...       ...        ...                ...   \n",
       "681467 -0.388718 -1.920008  0.693147  -0.285714                0.0   \n",
       "681468 -0.388718  0.059798  0.693147  -0.285714                0.0   \n",
       "681469 -0.388718 -1.891579  0.693147  -0.285714                0.0   \n",
       "681470 -0.388718 -0.019900  0.693147  -0.285714                0.0   \n",
       "681471 -0.388718 -0.029507  0.693147  -0.285714                0.0   \n",
       "\n",
       "        mrz_btp_dit_cd  iem_krl_nm  btp_cfc_cd  mkt_pr_tal_scl_tp_cd  \\\n",
       "0            -0.666667   -1.096168   -1.500000                  -0.5   \n",
       "1            -0.666667   -0.185105   -0.166667                  -0.5   \n",
       "2            -0.666667    0.660159    0.333333                   0.0   \n",
       "3            -0.666667    0.254519   -0.333333                   0.0   \n",
       "4            -0.666667    0.057122    0.000000                   0.5   \n",
       "...                ...         ...         ...                   ...   \n",
       "681467       -0.666667    0.097614    0.000000                   0.5   \n",
       "681468       -0.666667    0.525669   -0.333333                   0.0   \n",
       "681469       -0.666667   -0.792480   -1.333333                   0.0   \n",
       "681470       -0.666667    0.609544   -1.333333                   0.5   \n",
       "681471       -0.666667   -0.626898   -0.500000                   0.5   \n",
       "\n",
       "        stk_dit_cd   bnc_qty  tot_aet_amt  PCA_age_lsg   PCA_cus  \n",
       "0        -1.010309  0.917012     4.213264     1.189954 -0.271191  \n",
       "1        -1.010309 -0.211618     1.586814     1.189954 -0.271191  \n",
       "2         0.000000  3.041494     5.310557     1.189954 -0.271191  \n",
       "3        -1.010309  0.029046    -0.164153     1.189954 -0.271191  \n",
       "4         0.000000  0.539419     2.799188     1.189954 -0.271191  \n",
       "...            ...       ...          ...          ...       ...  \n",
       "681467    0.000000  0.605809     1.023105    -0.662009  0.000000  \n",
       "681468    0.000000  1.804979     8.535924    -0.662009  0.000000  \n",
       "681469    0.000000  8.950207     3.216609    -0.662009  0.000000  \n",
       "681470    0.000000  0.962656     0.709687    -0.662009  0.000000  \n",
       "681471    0.000000  1.066390     1.215584    -0.662009  0.000000  \n",
       "\n",
       "[681472 rows x 14 columns]"
      ]
     },
     "execution_count": 140,
     "metadata": {},
     "output_type": "execute_result"
    }
   ],
   "source": [
    "scaler_train"
   ]
  },
  {
   "cell_type": "code",
   "execution_count": 141,
   "metadata": {
    "colab": {
     "base_uri": "https://localhost:8080/"
    },
    "executionInfo": {
     "elapsed": 10,
     "status": "ok",
     "timestamp": 1633945802082,
     "user": {
      "displayName": "소령",
      "photoUrl": "https://lh3.googleusercontent.com/a/default-user=s64",
      "userId": "16197694196490598668"
     },
     "user_tz": -540
    },
    "id": "GSJArbI96qbA",
    "outputId": "d9e10049-0c3b-4a1d-be39-522d77935464"
   },
   "outputs": [
    {
     "data": {
      "text/plain": [
       "((681472, 14), (70596, 14), (70596, 2))"
      ]
     },
     "execution_count": 141,
     "metadata": {},
     "output_type": "execute_result"
    }
   ],
   "source": [
    "scaler_train.shape, scaler_test.shape, sub.shape"
   ]
  },
  {
   "cell_type": "markdown",
   "metadata": {
    "id": "lRibKUp80X2v"
   },
   "source": [
    "## hold_d drop"
   ]
  },
  {
   "cell_type": "code",
   "execution_count": 142,
   "metadata": {
    "executionInfo": {
     "elapsed": 5,
     "status": "ok",
     "timestamp": 1633945802083,
     "user": {
      "displayName": "소령",
      "photoUrl": "https://lh3.googleusercontent.com/a/default-user=s64",
      "userId": "16197694196490598668"
     },
     "user_tz": -540
    },
    "id": "l7GC1Jl60bdD"
   },
   "outputs": [],
   "source": [
    "train_label = scaler_train[\"hold_d\"]\n",
    "scaler_train.drop([\"hold_d\"], axis = 1, inplace = True)"
   ]
  },
  {
   "cell_type": "markdown",
   "metadata": {
    "id": "VuEKn5003BC_"
   },
   "source": [
    "# 모델 학습: CatBoostRegressor 사용"
   ]
  },
  {
   "cell_type": "markdown",
   "metadata": {
    "id": "RqfCZN4AlDJR"
   },
   "source": [
    "## CatBoostRegressor"
   ]
  },
  {
   "cell_type": "code",
   "execution_count": 143,
   "metadata": {
    "colab": {
     "base_uri": "https://localhost:8080/"
    },
    "executionInfo": {
     "elapsed": 262976,
     "status": "ok",
     "timestamp": 1633946065055,
     "user": {
      "displayName": "소령",
      "photoUrl": "https://lh3.googleusercontent.com/a/default-user=s64",
      "userId": "16197694196490598668"
     },
     "user_tz": -540
    },
    "id": "nyifvLZ-lCv7",
    "outputId": "95d0c08b-ce15-46a3-87f4-d51c1db64315"
   },
   "outputs": [
    {
     "name": "stderr",
     "output_type": "stream",
     "text": [
      "Custom logger is already specified. Specify more than one logger at same time is not thread safe."
     ]
    },
    {
     "name": "stdout",
     "output_type": "stream",
     "text": [
      "0:\tlearn: 1.2274186\ttest: 1.3033188\tbest: 1.3033188 (0)\ttotal: 154ms\tremaining: 2m 33s\n",
      "500:\tlearn: 0.0730650\ttest: 0.0724915\tbest: 0.0724915 (500)\ttotal: 1m 20s\tremaining: 1m 20s\n",
      "999:\tlearn: 0.0729798\ttest: 0.0723874\tbest: 0.0723874 (999)\ttotal: 2m 18s\tremaining: 0us\n",
      "\n",
      "bestTest = 0.07238736171\n",
      "bestIteration = 999\n",
      "\n",
      "0:\tlearn: 1.2235243\ttest: 1.3364153\tbest: 1.3364153 (0)\ttotal: 121ms\tremaining: 2m\n",
      "500:\tlearn: 0.0730511\ttest: 0.0721260\tbest: 0.0721260 (500)\ttotal: 1m 9s\tremaining: 1m 9s\n",
      "999:\tlearn: 0.0729837\ttest: 0.0720713\tbest: 0.0720712 (998)\ttotal: 2m 17s\tremaining: 0us\n",
      "\n",
      "bestTest = 0.07207122671\n",
      "bestIteration = 998\n",
      "\n",
      "Shrink model to first 999 iterations.\n",
      "0:\tlearn: 1.2215918\ttest: 1.3525845\tbest: 1.3525845 (0)\ttotal: 144ms\tremaining: 2m 23s\n",
      "500:\tlearn: 0.0731288\ttest: 0.0711449\tbest: 0.0711449 (500)\ttotal: 1m 13s\tremaining: 1m 12s\n",
      "999:\tlearn: 0.0730733\ttest: 0.0710994\tbest: 0.0710994 (999)\ttotal: 2m 49s\tremaining: 0us\n",
      "\n",
      "bestTest = 0.07109936145\n",
      "bestIteration = 999\n",
      "\n",
      "0:\tlearn: 1.2285067\ttest: 1.2941931\tbest: 1.2941931 (0)\ttotal: 446ms\tremaining: 7m 25s\n",
      "500:\tlearn: 0.0731434\ttest: 0.0716875\tbest: 0.0716875 (499)\ttotal: 1m 27s\tremaining: 1m 27s\n",
      "999:\tlearn: 0.0730439\ttest: 0.0716084\tbest: 0.0716084 (999)\ttotal: 2m 55s\tremaining: 0us\n",
      "\n",
      "bestTest = 0.07160837598\n",
      "bestIteration = 999\n",
      "\n",
      "0:\tlearn: 1.2275287\ttest: 1.3019202\tbest: 1.3019202 (0)\ttotal: 188ms\tremaining: 3m 8s\n",
      "500:\tlearn: 0.0731915\ttest: 0.0714388\tbest: 0.0714388 (500)\ttotal: 1m 32s\tremaining: 1m 32s\n",
      "999:\tlearn: 0.0730828\ttest: 0.0713338\tbest: 0.0713338 (989)\ttotal: 2m 56s\tremaining: 0us\n",
      "\n",
      "bestTest = 0.07133376065\n",
      "bestIteration = 989\n",
      "\n",
      "Shrink model to first 990 iterations.\n",
      "0:\tlearn: 1.2333215\ttest: 1.2509295\tbest: 1.2509295 (0)\ttotal: 149ms\tremaining: 2m 28s\n",
      "500:\tlearn: 0.0729453\ttest: 0.0730917\tbest: 0.0730917 (500)\ttotal: 1m 21s\tremaining: 1m 20s\n",
      "999:\tlearn: 0.0728663\ttest: 0.0730358\tbest: 0.0730358 (999)\ttotal: 2m 19s\tremaining: 0us\n",
      "\n",
      "bestTest = 0.07303584256\n",
      "bestIteration = 999\n",
      "\n",
      "0:\tlearn: 1.2414740\ttest: 1.1762591\tbest: 1.1762591 (0)\ttotal: 140ms\tremaining: 2m 20s\n",
      "500:\tlearn: 0.0728673\ttest: 0.0739186\tbest: 0.0739186 (500)\ttotal: 1m 10s\tremaining: 1m 9s\n",
      "999:\tlearn: 0.0727890\ttest: 0.0738627\tbest: 0.0738627 (999)\ttotal: 2m 9s\tremaining: 0us\n",
      "\n",
      "bestTest = 0.0738627358\n",
      "bestIteration = 999\n",
      "\n",
      "0:\tlearn: 1.2445433\ttest: 1.1455710\tbest: 1.1455710 (0)\ttotal: 144ms\tremaining: 2m 23s\n",
      "500:\tlearn: 0.0729079\ttest: 0.0740074\tbest: 0.0740074 (500)\ttotal: 1m 13s\tremaining: 1m 13s\n",
      "999:\tlearn: 0.0727988\ttest: 0.0739144\tbest: 0.0739144 (999)\ttotal: 2m 35s\tremaining: 0us\n",
      "\n",
      "bestTest = 0.07391438754\n",
      "bestIteration = 999\n",
      "\n",
      "0:\tlearn: 1.2505153\ttest: 1.0849176\tbest: 1.0849176 (0)\ttotal: 184ms\tremaining: 3m 3s\n",
      "500:\tlearn: 0.0727211\ttest: 0.0752044\tbest: 0.0752044 (500)\ttotal: 1m 19s\tremaining: 1m 18s\n",
      "999:\tlearn: 0.0726407\ttest: 0.0751494\tbest: 0.0751492 (998)\ttotal: 2m 12s\tremaining: 0us\n",
      "\n",
      "bestTest = 0.0751492409\n",
      "bestIteration = 998\n",
      "\n",
      "Shrink model to first 999 iterations.\n",
      "0:\tlearn: 1.2517713\ttest: 1.0716889\tbest: 1.0716889 (0)\ttotal: 109ms\tremaining: 1m 49s\n",
      "500:\tlearn: 0.0727542\ttest: 0.0747371\tbest: 0.0747371 (500)\ttotal: 51.3s\tremaining: 51.1s\n",
      "999:\tlearn: 0.0727041\ttest: 0.0747064\tbest: 0.0747061 (979)\ttotal: 1m 42s\tremaining: 0us\n",
      "\n",
      "bestTest = 0.07470613288\n",
      "bestIteration = 979\n",
      "\n",
      "Shrink model to first 980 iterations.\n"
     ]
    }
   ],
   "source": [
    "models = []\n",
    "\n",
    "kfold = KFold(n_splits=10)\n",
    "for train_idx, val_idx in kfold.split(scaler_train):\n",
    "    \n",
    "    X_train = scaler_train.iloc[train_idx, :]\n",
    "    y_train = train_label[train_idx]\n",
    "    X_val = scaler_train.iloc[val_idx, :]\n",
    "    y_val = train_label[val_idx]\n",
    "\n",
    "\n",
    "    model = CatBoostRegressor(iterations=None,\n",
    "                            learning_rate=0.03,\n",
    "                            depth=2,\n",
    "                            l2_leaf_reg=None,\n",
    "                            model_size_reg=None,\n",
    "                            use_best_model=True,\n",
    "                            rsm=None,\n",
    "                            loss_function='RMSE')\n",
    "    \n",
    "    model.fit(X_train, y_train,\n",
    "              eval_set=[(X_val, y_val)],\n",
    "              verbose=500)\n",
    "\n",
    "    models.append(model)"
   ]
  },
  {
   "cell_type": "markdown",
   "metadata": {
    "id": "Omv3p4hQoPAK"
   },
   "source": [
    "# 결과추론"
   ]
  },
  {
   "cell_type": "code",
   "execution_count": 144,
   "metadata": {
    "executionInfo": {
     "elapsed": 733,
     "status": "ok",
     "timestamp": 1633946065780,
     "user": {
      "displayName": "소령",
      "photoUrl": "https://lh3.googleusercontent.com/a/default-user=s64",
      "userId": "16197694196490598668"
     },
     "user_tz": -540
    },
    "id": "-DLxb2Mg3FPx"
   },
   "outputs": [],
   "source": [
    "result = []\n",
    "for i in models:\n",
    "    result.append(i.predict(scaler_test.drop('hold_d', axis = 1)))\n",
    "pred = np.mean(result, axis = 0)"
   ]
  },
  {
   "cell_type": "code",
   "execution_count": 145,
   "metadata": {
    "colab": {
     "base_uri": "https://localhost:8080/"
    },
    "executionInfo": {
     "elapsed": 45,
     "status": "ok",
     "timestamp": 1633946065781,
     "user": {
      "displayName": "소령",
      "photoUrl": "https://lh3.googleusercontent.com/a/default-user=s64",
      "userId": "16197694196490598668"
     },
     "user_tz": -540
    },
    "id": "RCXt7v883GZ5",
    "outputId": "076a1548-0093-41b2-b583-65f548a47519"
   },
   "outputs": [
    {
     "data": {
      "text/plain": [
       "array([5.72604885, 6.50637807, 5.63486191, ..., 6.69396816, 3.15593676,\n",
       "       2.21458529])"
      ]
     },
     "execution_count": 145,
     "metadata": {},
     "output_type": "execute_result"
    }
   ],
   "source": [
    "pred"
   ]
  },
  {
   "cell_type": "code",
   "execution_count": 146,
   "metadata": {
    "colab": {
     "base_uri": "https://localhost:8080/"
    },
    "executionInfo": {
     "elapsed": 36,
     "status": "ok",
     "timestamp": 1633946065781,
     "user": {
      "displayName": "소령",
      "photoUrl": "https://lh3.googleusercontent.com/a/default-user=s64",
      "userId": "16197694196490598668"
     },
     "user_tz": -540
    },
    "id": "_MohQGse_6h7",
    "outputId": "00c5294c-731f-4950-ed58-83003648c371"
   },
   "outputs": [
    {
     "data": {
      "text/plain": [
       "array([305.75483613, 668.39751373, 279.02024657, ..., 806.52027455,\n",
       "        22.47501727,   8.15761059])"
      ]
     },
     "execution_count": 146,
     "metadata": {},
     "output_type": "execute_result"
    }
   ],
   "source": [
    "pred = np.expm1(pred)\n",
    "pred"
   ]
  },
  {
   "cell_type": "code",
   "execution_count": 147,
   "metadata": {
    "colab": {
     "base_uri": "https://localhost:8080/"
    },
    "executionInfo": {
     "elapsed": 33,
     "status": "ok",
     "timestamp": 1633946065782,
     "user": {
      "displayName": "소령",
      "photoUrl": "https://lh3.googleusercontent.com/a/default-user=s64",
      "userId": "16197694196490598668"
     },
     "user_tz": -540
    },
    "id": "XJ0GjLPXDTKF",
    "outputId": "b995c632-e602-4ad6-a989-347d2ee1c7c4"
   },
   "outputs": [
    {
     "data": {
      "text/plain": [
       "70596"
      ]
     },
     "execution_count": 147,
     "metadata": {},
     "output_type": "execute_result"
    }
   ],
   "source": [
    "len(pred)"
   ]
  },
  {
   "cell_type": "code",
   "execution_count": 148,
   "metadata": {
    "executionInfo": {
     "elapsed": 27,
     "status": "ok",
     "timestamp": 1633946065782,
     "user": {
      "displayName": "소령",
      "photoUrl": "https://lh3.googleusercontent.com/a/default-user=s64",
      "userId": "16197694196490598668"
     },
     "user_tz": -540
    },
    "id": "H5Uxpx5R3HRv"
   },
   "outputs": [],
   "source": [
    "sub[\"hold_d\"] = np.round(pred)"
   ]
  },
  {
   "cell_type": "markdown",
   "metadata": {
    "id": "g9cxfRWxEm-a"
   },
   "source": [
    "# 결과물 평가"
   ]
  },
  {
   "cell_type": "code",
   "execution_count": 149,
   "metadata": {
    "executionInfo": {
     "elapsed": 28,
     "status": "ok",
     "timestamp": 1633946065782,
     "user": {
      "displayName": "소령",
      "photoUrl": "https://lh3.googleusercontent.com/a/default-user=s64",
      "userId": "16197694196490598668"
     },
     "user_tz": -540
    },
    "id": "FH8IGqiPEm-a"
   },
   "outputs": [],
   "source": [
    "test = pd.read_csv('open/stk_hld_test.csv')"
   ]
  },
  {
   "cell_type": "code",
   "execution_count": 150,
   "metadata": {
    "colab": {
     "base_uri": "https://localhost:8080/",
     "height": 417
    },
    "executionInfo": {
     "elapsed": 27,
     "status": "ok",
     "timestamp": 1633946065783,
     "user": {
      "displayName": "소령",
      "photoUrl": "https://lh3.googleusercontent.com/a/default-user=s64",
      "userId": "16197694196490598668"
     },
     "user_tz": -540
    },
    "id": "yYML3YJJEm-a",
    "outputId": "7db64d4b-544b-46c6-bcda-71f0942cffd5"
   },
   "outputs": [
    {
     "data": {
      "text/html": [
       "<div>\n",
       "<style scoped>\n",
       "    .dataframe tbody tr th:only-of-type {\n",
       "        vertical-align: middle;\n",
       "    }\n",
       "\n",
       "    .dataframe tbody tr th {\n",
       "        vertical-align: top;\n",
       "    }\n",
       "\n",
       "    .dataframe thead th {\n",
       "        text-align: right;\n",
       "    }\n",
       "</style>\n",
       "<table border=\"1\" class=\"dataframe\">\n",
       "  <thead>\n",
       "    <tr style=\"text-align: right;\">\n",
       "      <th></th>\n",
       "      <th>act_id</th>\n",
       "      <th>iem_cd</th>\n",
       "      <th>byn_dt</th>\n",
       "      <th>hist_d</th>\n",
       "      <th>submit_id</th>\n",
       "      <th>hold_d</th>\n",
       "    </tr>\n",
       "  </thead>\n",
       "  <tbody>\n",
       "    <tr>\n",
       "      <th>0</th>\n",
       "      <td>0ad104dbed99be0cd858aa772765ddedade554601a981b...</td>\n",
       "      <td>A032640</td>\n",
       "      <td>20200522</td>\n",
       "      <td>153</td>\n",
       "      <td>IDX00001</td>\n",
       "      <td>306.0</td>\n",
       "    </tr>\n",
       "    <tr>\n",
       "      <th>1</th>\n",
       "      <td>0ad104dbed99be0cd858aa772765ddedade554601a981b...</td>\n",
       "      <td>A160600</td>\n",
       "      <td>20190823</td>\n",
       "      <td>335</td>\n",
       "      <td>IDX00002</td>\n",
       "      <td>668.0</td>\n",
       "    </tr>\n",
       "    <tr>\n",
       "      <th>3</th>\n",
       "      <td>0ad104dbed99be0cd858aa772765ddedade554601a981b...</td>\n",
       "      <td>A131760</td>\n",
       "      <td>20200120</td>\n",
       "      <td>236</td>\n",
       "      <td>IDX00004</td>\n",
       "      <td>472.0</td>\n",
       "    </tr>\n",
       "    <tr>\n",
       "      <th>9</th>\n",
       "      <td>b6623032ed365b6c9a71c0344ebb8ca191f1ebc5927771...</td>\n",
       "      <td>A009580</td>\n",
       "      <td>20181206</td>\n",
       "      <td>510</td>\n",
       "      <td>IDX00010</td>\n",
       "      <td>792.0</td>\n",
       "    </tr>\n",
       "    <tr>\n",
       "      <th>11</th>\n",
       "      <td>64aae8dd71e5c0761000db9f9a6779e504e7a4aa9dc097...</td>\n",
       "      <td>A000030</td>\n",
       "      <td>20160104</td>\n",
       "      <td>1227</td>\n",
       "      <td>IDX00012</td>\n",
       "      <td>872.0</td>\n",
       "    </tr>\n",
       "    <tr>\n",
       "      <th>...</th>\n",
       "      <td>...</td>\n",
       "      <td>...</td>\n",
       "      <td>...</td>\n",
       "      <td>...</td>\n",
       "      <td>...</td>\n",
       "      <td>...</td>\n",
       "    </tr>\n",
       "    <tr>\n",
       "      <th>70579</th>\n",
       "      <td>4e90d4001683b20b87ec3ca828db0e360acb58dd1be858...</td>\n",
       "      <td>A058220</td>\n",
       "      <td>20200319</td>\n",
       "      <td>195</td>\n",
       "      <td>IDX70580</td>\n",
       "      <td>390.0</td>\n",
       "    </tr>\n",
       "    <tr>\n",
       "      <th>70580</th>\n",
       "      <td>564af3cf975ed4fa05148ada689d5002e9c2d43dee9481...</td>\n",
       "      <td>A117580</td>\n",
       "      <td>20160104</td>\n",
       "      <td>1227</td>\n",
       "      <td>IDX70581</td>\n",
       "      <td>867.0</td>\n",
       "    </tr>\n",
       "    <tr>\n",
       "      <th>70587</th>\n",
       "      <td>564af3cf975ed4fa05148ada689d5002e9c2d43dee9481...</td>\n",
       "      <td>A033780</td>\n",
       "      <td>20191105</td>\n",
       "      <td>287</td>\n",
       "      <td>IDX70588</td>\n",
       "      <td>573.0</td>\n",
       "    </tr>\n",
       "    <tr>\n",
       "      <th>70588</th>\n",
       "      <td>564af3cf975ed4fa05148ada689d5002e9c2d43dee9481...</td>\n",
       "      <td>A017670</td>\n",
       "      <td>20190723</td>\n",
       "      <td>357</td>\n",
       "      <td>IDX70589</td>\n",
       "      <td>710.0</td>\n",
       "    </tr>\n",
       "    <tr>\n",
       "      <th>70593</th>\n",
       "      <td>4561928f2825f6389f228088ac807a9fb4575ffdcbc47a...</td>\n",
       "      <td>A004740</td>\n",
       "      <td>20170704</td>\n",
       "      <td>858</td>\n",
       "      <td>IDX70594</td>\n",
       "      <td>807.0</td>\n",
       "    </tr>\n",
       "  </tbody>\n",
       "</table>\n",
       "<p>13808 rows × 6 columns</p>\n",
       "</div>"
      ],
      "text/plain": [
       "                                                  act_id   iem_cd    byn_dt  \\\n",
       "0      0ad104dbed99be0cd858aa772765ddedade554601a981b...  A032640  20200522   \n",
       "1      0ad104dbed99be0cd858aa772765ddedade554601a981b...  A160600  20190823   \n",
       "3      0ad104dbed99be0cd858aa772765ddedade554601a981b...  A131760  20200120   \n",
       "9      b6623032ed365b6c9a71c0344ebb8ca191f1ebc5927771...  A009580  20181206   \n",
       "11     64aae8dd71e5c0761000db9f9a6779e504e7a4aa9dc097...  A000030  20160104   \n",
       "...                                                  ...      ...       ...   \n",
       "70579  4e90d4001683b20b87ec3ca828db0e360acb58dd1be858...  A058220  20200319   \n",
       "70580  564af3cf975ed4fa05148ada689d5002e9c2d43dee9481...  A117580  20160104   \n",
       "70587  564af3cf975ed4fa05148ada689d5002e9c2d43dee9481...  A033780  20191105   \n",
       "70588  564af3cf975ed4fa05148ada689d5002e9c2d43dee9481...  A017670  20190723   \n",
       "70593  4561928f2825f6389f228088ac807a9fb4575ffdcbc47a...  A004740  20170704   \n",
       "\n",
       "       hist_d submit_id  hold_d  \n",
       "0         153  IDX00001   306.0  \n",
       "1         335  IDX00002   668.0  \n",
       "3         236  IDX00004   472.0  \n",
       "9         510  IDX00010   792.0  \n",
       "11       1227  IDX00012   872.0  \n",
       "...       ...       ...     ...  \n",
       "70579     195  IDX70580   390.0  \n",
       "70580    1227  IDX70581   867.0  \n",
       "70587     287  IDX70588   573.0  \n",
       "70588     357  IDX70589   710.0  \n",
       "70593     858  IDX70594   807.0  \n",
       "\n",
       "[13808 rows x 6 columns]"
      ]
     },
     "execution_count": 150,
     "metadata": {},
     "output_type": "execute_result"
    }
   ],
   "source": [
    "test_sub = pd.merge(test.drop('hold_d', axis=1), sub, how='left', on='submit_id')\n",
    "upper = test_sub['hist_d'] >= test_sub['hold_d']           \n",
    "under = ((test_sub['hold_d'] - test_sub['hist_d']) > 146)  \n",
    "test_sub[upper | under]"
   ]
  },
  {
   "cell_type": "markdown",
   "metadata": {
    "id": "YG-qSRQDEm-d"
   },
   "source": [
    "## upper case(hist_d + 146)"
   ]
  },
  {
   "cell_type": "code",
   "execution_count": 151,
   "metadata": {
    "colab": {
     "base_uri": "https://localhost:8080/"
    },
    "executionInfo": {
     "elapsed": 27,
     "status": "ok",
     "timestamp": 1633946065784,
     "user": {
      "displayName": "소령",
      "photoUrl": "https://lh3.googleusercontent.com/a/default-user=s64",
      "userId": "16197694196490598668"
     },
     "user_tz": -540
    },
    "id": "3ftx1zgiEm-e",
    "outputId": "92f3ee5c-89de-4fbb-9178-dc5471e2fdf0"
   },
   "outputs": [
    {
     "data": {
      "text/plain": [
       "220"
      ]
     },
     "execution_count": 151,
     "metadata": {},
     "output_type": "execute_result"
    }
   ],
   "source": [
    "upper_idx = test_sub[upper].index.tolist()\n",
    "len(upper_idx)"
   ]
  },
  {
   "cell_type": "code",
   "execution_count": 152,
   "metadata": {
    "executionInfo": {
     "elapsed": 23,
     "status": "ok",
     "timestamp": 1633946065785,
     "user": {
      "displayName": "소령",
      "photoUrl": "https://lh3.googleusercontent.com/a/default-user=s64",
      "userId": "16197694196490598668"
     },
     "user_tz": -540
    },
    "id": "tCbzv0R9Em-e"
   },
   "outputs": [],
   "source": [
    "sub.loc[upper_idx, 'hold_d'] = test_sub.loc[upper_idx, 'hist_d'] + 146"
   ]
  },
  {
   "cell_type": "code",
   "execution_count": 153,
   "metadata": {
    "colab": {
     "base_uri": "https://localhost:8080/",
     "height": 417
    },
    "executionInfo": {
     "elapsed": 23,
     "status": "ok",
     "timestamp": 1633946065785,
     "user": {
      "displayName": "소령",
      "photoUrl": "https://lh3.googleusercontent.com/a/default-user=s64",
      "userId": "16197694196490598668"
     },
     "user_tz": -540
    },
    "id": "8steIVSHEm-e",
    "outputId": "69327b7d-903c-4e86-8a8f-970f8128ac59"
   },
   "outputs": [
    {
     "data": {
      "text/html": [
       "<div>\n",
       "<style scoped>\n",
       "    .dataframe tbody tr th:only-of-type {\n",
       "        vertical-align: middle;\n",
       "    }\n",
       "\n",
       "    .dataframe tbody tr th {\n",
       "        vertical-align: top;\n",
       "    }\n",
       "\n",
       "    .dataframe thead th {\n",
       "        text-align: right;\n",
       "    }\n",
       "</style>\n",
       "<table border=\"1\" class=\"dataframe\">\n",
       "  <thead>\n",
       "    <tr style=\"text-align: right;\">\n",
       "      <th></th>\n",
       "      <th>submit_id</th>\n",
       "      <th>hold_d</th>\n",
       "    </tr>\n",
       "  </thead>\n",
       "  <tbody>\n",
       "    <tr>\n",
       "      <th>0</th>\n",
       "      <td>IDX00001</td>\n",
       "      <td>306.0</td>\n",
       "    </tr>\n",
       "    <tr>\n",
       "      <th>1</th>\n",
       "      <td>IDX00002</td>\n",
       "      <td>668.0</td>\n",
       "    </tr>\n",
       "    <tr>\n",
       "      <th>2</th>\n",
       "      <td>IDX00003</td>\n",
       "      <td>279.0</td>\n",
       "    </tr>\n",
       "    <tr>\n",
       "      <th>3</th>\n",
       "      <td>IDX00004</td>\n",
       "      <td>472.0</td>\n",
       "    </tr>\n",
       "    <tr>\n",
       "      <th>4</th>\n",
       "      <td>IDX00005</td>\n",
       "      <td>18.0</td>\n",
       "    </tr>\n",
       "  </tbody>\n",
       "</table>\n",
       "</div>"
      ],
      "text/plain": [
       "  submit_id  hold_d\n",
       "0  IDX00001   306.0\n",
       "1  IDX00002   668.0\n",
       "2  IDX00003   279.0\n",
       "3  IDX00004   472.0\n",
       "4  IDX00005    18.0"
      ]
     },
     "execution_count": 153,
     "metadata": {},
     "output_type": "execute_result"
    }
   ],
   "source": [
    "sub.head()"
   ]
  },
  {
   "cell_type": "markdown",
   "metadata": {
    "id": "lgUyuqMkEm-e"
   },
   "source": [
    "## under case(hist_d + 1)"
   ]
  },
  {
   "cell_type": "code",
   "execution_count": 154,
   "metadata": {
    "colab": {
     "base_uri": "https://localhost:8080/"
    },
    "executionInfo": {
     "elapsed": 23,
     "status": "ok",
     "timestamp": 1633946065786,
     "user": {
      "displayName": "소령",
      "photoUrl": "https://lh3.googleusercontent.com/a/default-user=s64",
      "userId": "16197694196490598668"
     },
     "user_tz": -540
    },
    "id": "ISd1LRBCEm-f",
    "outputId": "35d26319-f1ab-4bc4-e3c7-6a151fcf13f9"
   },
   "outputs": [
    {
     "data": {
      "text/plain": [
       "13588"
      ]
     },
     "execution_count": 154,
     "metadata": {},
     "output_type": "execute_result"
    }
   ],
   "source": [
    "under_idx = test_sub[under].index.tolist()\n",
    "len(under_idx)"
   ]
  },
  {
   "cell_type": "code",
   "execution_count": 155,
   "metadata": {
    "executionInfo": {
     "elapsed": 19,
     "status": "ok",
     "timestamp": 1633946065787,
     "user": {
      "displayName": "소령",
      "photoUrl": "https://lh3.googleusercontent.com/a/default-user=s64",
      "userId": "16197694196490598668"
     },
     "user_tz": -540
    },
    "id": "iWNXZuQVEm-f"
   },
   "outputs": [],
   "source": [
    "sub.loc[under_idx, 'hold_d'] = test_sub.loc[under_idx, 'hist_d'] + 1"
   ]
  },
  {
   "cell_type": "code",
   "execution_count": 156,
   "metadata": {
    "colab": {
     "base_uri": "https://localhost:8080/",
     "height": 417
    },
    "executionInfo": {
     "elapsed": 19,
     "status": "ok",
     "timestamp": 1633946065787,
     "user": {
      "displayName": "소령",
      "photoUrl": "https://lh3.googleusercontent.com/a/default-user=s64",
      "userId": "16197694196490598668"
     },
     "user_tz": -540
    },
    "id": "BLsuWS7oEm-f",
    "outputId": "c4619a45-dfc4-4a1c-e084-35ae1f3cea7a"
   },
   "outputs": [
    {
     "data": {
      "text/html": [
       "<div>\n",
       "<style scoped>\n",
       "    .dataframe tbody tr th:only-of-type {\n",
       "        vertical-align: middle;\n",
       "    }\n",
       "\n",
       "    .dataframe tbody tr th {\n",
       "        vertical-align: top;\n",
       "    }\n",
       "\n",
       "    .dataframe thead th {\n",
       "        text-align: right;\n",
       "    }\n",
       "</style>\n",
       "<table border=\"1\" class=\"dataframe\">\n",
       "  <thead>\n",
       "    <tr style=\"text-align: right;\">\n",
       "      <th></th>\n",
       "      <th>submit_id</th>\n",
       "      <th>hold_d</th>\n",
       "    </tr>\n",
       "  </thead>\n",
       "  <tbody>\n",
       "    <tr>\n",
       "      <th>0</th>\n",
       "      <td>IDX00001</td>\n",
       "      <td>154.0</td>\n",
       "    </tr>\n",
       "    <tr>\n",
       "      <th>1</th>\n",
       "      <td>IDX00002</td>\n",
       "      <td>336.0</td>\n",
       "    </tr>\n",
       "    <tr>\n",
       "      <th>2</th>\n",
       "      <td>IDX00003</td>\n",
       "      <td>279.0</td>\n",
       "    </tr>\n",
       "    <tr>\n",
       "      <th>3</th>\n",
       "      <td>IDX00004</td>\n",
       "      <td>237.0</td>\n",
       "    </tr>\n",
       "    <tr>\n",
       "      <th>4</th>\n",
       "      <td>IDX00005</td>\n",
       "      <td>18.0</td>\n",
       "    </tr>\n",
       "  </tbody>\n",
       "</table>\n",
       "</div>"
      ],
      "text/plain": [
       "  submit_id  hold_d\n",
       "0  IDX00001   154.0\n",
       "1  IDX00002   336.0\n",
       "2  IDX00003   279.0\n",
       "3  IDX00004   237.0\n",
       "4  IDX00005    18.0"
      ]
     },
     "execution_count": 156,
     "metadata": {},
     "output_type": "execute_result"
    }
   ],
   "source": [
    "sub.head()"
   ]
  },
  {
   "cell_type": "code",
   "execution_count": 157,
   "metadata": {
    "executionInfo": {
     "elapsed": 675,
     "status": "ok",
     "timestamp": 1633946066448,
     "user": {
      "displayName": "소령",
      "photoUrl": "https://lh3.googleusercontent.com/a/default-user=s64",
      "userId": "16197694196490598668"
     },
     "user_tz": -540
    },
    "id": "R7WLWByF3JFg"
   },
   "outputs": [],
   "source": [
    "sub.to_csv('result/after1.csv', index = False)"
   ]
  }
 ],
 "metadata": {
  "colab": {
   "collapsed_sections": [],
   "name": "211011_nh_stack_02.ipynb",
   "provenance": [
    {
     "file_id": "1Bbz_IzaOhK8Zi8HU4-2tzYpy0rOeKKIn",
     "timestamp": 1633871809230
    },
    {
     "file_id": "1onkw7k94CF0puooi1mpAEt0SCREsWmQ2",
     "timestamp": 1633839671781
    },
    {
     "file_id": "1o740cmJOpm2QIe1MZeppLkFjh476TH1v",
     "timestamp": 1633761565582
    },
    {
     "file_id": "1BW5NRcrg2GmOfdDArQUmeVc0tddOfsMC",
     "timestamp": 1633687439973
    }
   ]
  },
  "kernelspec": {
   "display_name": "Python 3 (ipykernel)",
   "language": "python",
   "name": "python3"
  },
  "language_info": {
   "codemirror_mode": {
    "name": "ipython",
    "version": 3
   },
   "file_extension": ".py",
   "mimetype": "text/x-python",
   "name": "python",
   "nbconvert_exporter": "python",
   "pygments_lexer": "ipython3",
   "version": "3.8.8"
  }
 },
 "nbformat": 4,
 "nbformat_minor": 4
}
